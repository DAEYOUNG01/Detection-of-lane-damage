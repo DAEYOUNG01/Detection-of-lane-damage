{
  "nbformat": 4,
  "nbformat_minor": 0,
  "metadata": {
    "colab": {
      "provenance": [],
      "gpuType": "T4",
      "mount_file_id": "1fFl9jJtYonuDFoqw8RishVaz2MtUNmBV",
      "authorship_tag": "ABX9TyN7IUOS5J9muzKWy9TmytRW"
    },
    "kernelspec": {
      "name": "python3",
      "display_name": "Python 3"
    },
    "language_info": {
      "name": "python"
    },
    "accelerator": "GPU"
  },
  "cells": [
    {
      "cell_type": "markdown",
      "source": [
        "# 각종 라이브러리 설치 및 Yolov8 설치"
      ],
      "metadata": {
        "id": "nP7fPe8AdVyV"
      }
    },
    {
      "cell_type": "code",
      "source": [
        "# 프로젝트 경로 이동\n",
        "import os\n",
        "os.chdir(\"/content/drive/MyDrive/line_detection\")"
      ],
      "metadata": {
        "id": "oHE-ZEUhaLxh"
      },
      "execution_count": 1,
      "outputs": []
    },
    {
      "cell_type": "code",
      "source": [
        "!git clone http://github.com/ultralytics/ultralytics.git"
      ],
      "metadata": {
        "id": "8PuVNW9VaeVR",
        "collapsed": true
      },
      "execution_count": null,
      "outputs": []
    },
    {
      "cell_type": "code",
      "source": [
        "!pip install tqdm\n",
        "!pip install torch torchvision numpy matplotlib\n",
        "!pip install ultralytics\n",
        "!pip install -r requirements.txt\n",
        "!yolo seg\n",
        "!pip install ultralytics opencv-python"
      ],
      "metadata": {
        "id": "ReIpgv8pahN9",
        "collapsed": true
      },
      "execution_count": null,
      "outputs": []
    },
    {
      "cell_type": "markdown",
      "source": [
        "# 라이브러리"
      ],
      "metadata": {
        "id": "u0n6vPCD2uBj"
      }
    },
    {
      "cell_type": "code",
      "execution_count": null,
      "metadata": {
        "id": "EI3FShdblGxa"
      },
      "outputs": [],
      "source": [
        "from tqdm import tqdm\n",
        "import zipfile\n",
        "import os\n",
        "from ultralytics import YOLO\n",
        "import shutil\n",
        "import random\n",
        "import cv2\n",
        "import numpy as np\n",
        "import yaml\n",
        "import matplotlib.pyplot as plt\n",
        "from IPython.display import Audio, display\n",
        "from glob import glob\n",
        "from google.colab.patches import cv2_imshow\n",
        "from IPython.display import display, clear_output\n",
        "import PIL.Image\n",
        "from google.colab import files"
      ]
    },
    {
      "cell_type": "code",
      "source": [
        "!pip freeze > requirements.txt # yolov8n.pt 파일 생성 확인\n",
        "!yolo predict"
      ],
      "metadata": {
        "id": "RyJhBAjbajcO"
      },
      "execution_count": null,
      "outputs": []
    },
    {
      "cell_type": "markdown",
      "source": [
        "# 데이터셋 생성 과정"
      ],
      "metadata": {
        "id": "ZRGwde_udOho"
      }
    },
    {
      "cell_type": "code",
      "source": [
        "# 데이터 폴더 경로\n",
        "image_folder = '/content/drive/MyDrive/line_detection/images'\n",
        "label_folder = '/content/drive/MyDrive/line_detection/labels'\n",
        "\n",
        "# 나눌 폴더 경로\n",
        "working_dir = '/content/drive/MyDrive/line_detection'\n",
        "train_folder = os.path.join(working_dir, 'train')\n",
        "valid_folder = os.path.join(working_dir, 'valid')\n",
        "test_folder = os.path.join(working_dir, 'test')\n",
        "\n",
        "# 폴더 생성\n",
        "for folder in [train_folder, valid_folder, test_folder]:\n",
        "    os.makedirs(os.path.join(folder, 'images'), exist_ok=True)\n",
        "    os.makedirs(os.path.join(folder, 'labels'), exist_ok=True)\n",
        "\n",
        "# 이미지와 라벨 파일 리스트 가져오기\n",
        "images = sorted([f for f in os.listdir(image_folder) if f.endswith(('.jpg', '.png'))])\n",
        "labels = sorted([f for f in os.listdir(label_folder) if f.endswith(('.txt'))])\n",
        "\n",
        "# 이미지 파일의 수에 따라 데이터 분할 비율을 설정\n",
        "num_images = len(images)\n",
        "num_train = int(num_images * 0.8)\n",
        "num_valid = int(num_images * 0.1)\n",
        "num_test = num_images - num_train - num_valid\n",
        "\n",
        "# 파일을 섞어줍니다\n",
        "random.shuffle(images)\n",
        "\n",
        "# 데이터 나누기\n",
        "train_images = images[:num_train]\n",
        "valid_images = images[num_train:num_train + num_valid]\n",
        "test_images = images[num_train + num_valid:]\n",
        "\n",
        "def copy_files(file_list, src_folder, dst_folder):\n",
        "    for file_name in file_list:\n",
        "        image_src = os.path.join(src_folder, file_name)\n",
        "        label_src = os.path.join(label_folder, file_name.replace('.jpg', '.txt').replace('.png', '.txt'))\n",
        "\n",
        "        dst_image = os.path.join(dst_folder, 'images', file_name)\n",
        "        dst_label = os.path.join(dst_folder, 'labels', file_name.replace('.jpg', '.txt').replace('.png', '.txt'))\n",
        "\n",
        "        # 파일 복사\n",
        "        shutil.copy(image_src, dst_image)\n",
        "        shutil.copy(label_src, dst_label)\n",
        "\n",
        "# 파일 복사\n",
        "copy_files(train_images, image_folder, train_folder)\n",
        "copy_files(valid_images, image_folder, valid_folder)\n",
        "copy_files(test_images, image_folder, test_folder)\n",
        "\n",
        "print(\"Data split completed.\")\n"
      ],
      "metadata": {
        "id": "STcCxM3OdNL8"
      },
      "execution_count": null,
      "outputs": []
    },
    {
      "cell_type": "code",
      "source": [
        "!pwd\n",
        "train_img_list = glob('/content/drive/MyDrive/line_detection/train/images/*.png')\n",
        "train_txt_list = glob('/content/drive/MyDrive/line_detection/train/labels/*.txt')\n",
        "\n",
        "valid_img_list = glob('/content/drive/MyDrive/line_detection/valid/images/*.png')\n",
        "valid_txt_list = glob('/content/drive/MyDrive/line_detection/valid/labels/*.txt')\n",
        "\n",
        "test_img_list = glob('/content/drive/MyDrive/line_detection/test/images/*.png')\n",
        "test_txt_list = glob('/content/drive/MyDrive/line_detection/test/labels/*.txt')\n",
        "\n",
        "print(len(train_img_list), len(train_txt_list))\n",
        "print(len(valid_img_list), len(valid_txt_list))\n",
        "print(len(test_img_list), len(test_txt_list))"
      ],
      "metadata": {
        "id": "S-1sIZ2MdjUV"
      },
      "execution_count": null,
      "outputs": []
    },
    {
      "cell_type": "markdown",
      "source": [
        "#데이터 사용 경로 및 방법"
      ],
      "metadata": {
        "id": "dJCfGY8ZhHFv"
      }
    },
    {
      "cell_type": "code",
      "source": [
        "# 파일 사용 , train.txt , val.txt 파일 생성\n",
        "with open('/content/drive/MyDrive/line_detection/train.txt', 'w') as f:\n",
        "    f.write('\\n'.join(train_img_list) + '\\n')\n",
        "\n",
        "with open('/content/drive/MyDrive/line_detection/val.txt', 'w') as f:\n",
        "    f.write('\\n'.join(valid_img_list) + '\\n')\n"
      ],
      "metadata": {
        "id": "sW6Wx9HshF6m"
      },
      "execution_count": null,
      "outputs": []
    },
    {
      "cell_type": "code",
      "source": [
        "# yaml 파일 수정하기\n",
        "with open('/content/drive/MyDrive/line_detection/data.yaml', 'r') as f :\n",
        "  data = yaml.full_load(f) # yaml.load -> yaml.full_load\n",
        "\n",
        "print(data)\n",
        "\n",
        "# 경로 설정하기\n",
        "data['train'] = '/content/drive/MyDrive/line_detection/train.txt'\n",
        "data['val'] = '/content/drive/MyDrive/line_detection/val.txt'\n"
      ],
      "metadata": {
        "id": "csetULvgjl9c"
      },
      "execution_count": null,
      "outputs": []
    },
    {
      "cell_type": "markdown",
      "source": [
        "# 학습"
      ],
      "metadata": {
        "id": "-3KuT23t3L5Q"
      }
    },
    {
      "cell_type": "code",
      "source": [
        "#yolo v8 모델을 사용하여 segmentation 수행\n",
        "!pwd\n",
        "!yolo task=segment mode=train model=yolov8s-seg.pt data=/content/drive/MyDrive/line_detection/data.yaml epochs=50  lr0=0.001 batch=32 device=0 dropout=0.2"
      ],
      "metadata": {
        "id": "yzx4qHVirijQ"
      },
      "execution_count": null,
      "outputs": []
    },
    {
      "cell_type": "markdown",
      "source": [
        "# 결과 분석"
      ],
      "metadata": {
        "id": "XtC-NFA67aWU"
      }
    },
    {
      "cell_type": "code",
      "source": [
        "%load_ext tensorboard\n",
        "%tensorboard --logdir runs"
      ],
      "metadata": {
        "collapsed": true,
        "id": "5p_SQSOVv8de"
      },
      "execution_count": null,
      "outputs": []
    },
    {
      "cell_type": "markdown",
      "source": [
        "# 영상 테스트 진행"
      ],
      "metadata": {
        "id": "W2smxxoY3Z3Q"
      }
    },
    {
      "cell_type": "code",
      "source": [
        "\"\"\" # pre-trained 모델 호출\n",
        "model = YOLO('/content/drive/MyDrive/line_detection/yolov8s-seg.pt')\n",
        "\n",
        "# 사용자 지정 학습된 모델 경로 설정\n",
        "best_model_path = os.path.join('/content/drive/MyDrive/line_detection/runs/segment/train2/weights/best.pt')\n",
        "\n",
        "# 사용자 지정 학습된 모델 호출\n",
        "best_model = YOLO(best_model_path)\n",
        "\"\"\""
      ],
      "metadata": {
        "id": "CpOPcZOb5I1y"
      },
      "execution_count": null,
      "outputs": []
    },
    {
      "cell_type": "code",
      "source": [
        "# pre-trained 모델 호출\n",
        "model = YOLO('/content/drive/MyDrive/line_detection/yolov8s-seg.pt')\n",
        "\n",
        "# 사용자 지정 학습된 모델 경로 설정\n",
        "best_model_path = os.path.join('/content/drive/MyDrive/line_detection/runs/segment/train2/weights/best.pt')\n",
        "\n",
        "# 사용자 지정 학습된 모델 호출\n",
        "best_model = YOLO(best_model_path)\n",
        "\n"
      ],
      "metadata": {
        "id": "mhZ4d3AGY-CP",
        "collapsed": true
      },
      "execution_count": null,
      "outputs": []
    },
    {
      "cell_type": "code",
      "source": [
        "from ultralytics import YOLO\n",
        "import cv2\n",
        "import numpy as np\n",
        "\n",
        "try:\n",
        "    # YOLO 모델 로드\n",
        "    model = YOLO('/content/drive/MyDrive/line_detection/runs/segment/train2/weights/best.pt')\n",
        "\n",
        "    # 비디오 파일 열기\n",
        "    video = cv2.VideoCapture('/content/drive/MyDrive/line_detection/Video_Dataset/Test_Video(1).avi')\n",
        "\n",
        "    if not video.isOpened():\n",
        "        raise IOError(\"비디오 파일을 열 수 없습니다.\")\n",
        "\n",
        "    # 출력 비디오 설정\n",
        "    width = int(video.get(cv2.CAP_PROP_FRAME_WIDTH))\n",
        "    height = int(video.get(cv2.CAP_PROP_FRAME_HEIGHT)훼\n",
        "    fps = video.get(cv2.CAP_PROP_FPS)\n",
        "    fourcc = cv2.VideoWriter_fourcc(*'XVID')\n",
        "    out = cv2.VideoWriter('/content/drive/MyDrive/line_detection/Video_Dataset/Test_Video(a).avi', fourcc, fps, (width, height))\n",
        "\n",
        "    # 색상 맵 설정 (2개의 클래스: 빨강, 파랑)\n",
        "    color_map = np.array([[255, 0, 0], [0, 0, 255]])  # 빨강, 파랑\n",
        "\n",
        "    frame_count = 0\n",
        "    while True:\n",
        "        ret, frame = video.read()\n",
        "        if not ret:\n",
        "            break\n",
        "\n",
        "        # YOLO로 세그멘테이션 수행\n",
        "        results = model(frame)\n",
        "\n",
        "        # 세그멘테이션 마스크 처리\n",
        "        if results[0].masks is not None:\n",
        "            for i, (mask, box, cls) in enumerate(zip(results[0].masks.xy, results[0].boxes.xyxy, results[0].boxes.cls)):\n",
        "                color = color_map[int(cls) % len(color_map)]\n",
        "                pts = np.array(mask, np.int32)\n",
        "                pts = pts.reshape((-1, 1, 2))\n",
        "\n",
        "                # 마스크 그리기 (반투명)\n",
        "                overlay = frame.copy()\n",
        "                cv2.fillPoly(overlay, [pts], color.tolist())\n",
        "                cv2.addWeighted(overlay, 0.3, frame, 0.7, 0, frame)  # 투명도 조절\n",
        "\n",
        "                # 바운딩 박스 그리기\n",
        "                x1, y1, x2, y2 = map(int, box[:4])\n",
        "                cv2.rectangle(frame, (x1, y1), (x2, y2), color.tolist(), 2)\n",
        "\n",
        "                # 클래스 이름과 정확도 표시\n",
        "                label = f\"{results[0].names[int(cls)]}: {results[0].boxes.conf[i]:.2f}\"\n",
        "                cv2.putText(frame, label, (x1, y1 - 10), cv2.FONT_HERSHEY_SIMPLEX, 0.9, color.tolist(), 2)\n",
        "\n",
        "        # 결과 저장\n",
        "        out.write(frame)\n",
        "\n",
        "        frame_count += 1\n",
        "        if frame_count % 100 == 0:\n",
        "            print(f\"{frame_count} 프레임 처리 완료\")\n",
        "\n",
        "    print(\"비디오 처리 완료\")\n",
        "\n",
        "except Exception as e:\n",
        "    print(f\"오류 발생: {str(e)}\")\n",
        "\n",
        "finally:\n",
        "    video.release()\n",
        "    out.release()\n",
        "    cv2.destroyAllWindows()"
      ],
      "metadata": {
        "id": "-1lqDLZQbG3o"
      },
      "execution_count": null,
      "outputs": []
    }
  ]
}